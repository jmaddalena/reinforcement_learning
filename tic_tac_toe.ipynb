{
 "cells": [
  {
   "cell_type": "code",
   "execution_count": 1,
   "metadata": {},
   "outputs": [],
   "source": [
    "from __future__ import print_function\n",
    "\n",
    "import pandas as pd\n",
    "import numpy as np\n",
    "\n",
    "from ipywidgets import interact, interactive, fixed, interact_manual\n",
    "import ipywidgets as widgets"
   ]
  },
  {
   "cell_type": "code",
   "execution_count": 692,
   "metadata": {},
   "outputs": [],
   "source": [
    "def print_board(board):\n",
    "    print(np.reshape(board, (3,3)))\n",
    "\n",
    "def is_winning_board(board, winner = ['X', 'O']):\n",
    "    \n",
    "    ways_to_win = np.array([[0, 1, 2], [3, 4, 5], [6, 7, 8], [0, 3, 6], [1, 4, 7], [2, 5, 8], [0, 4, 8], [2, 4, 6]])\n",
    "\n",
    "    i = 0\n",
    "    check_win = False\n",
    "\n",
    "    while(check_win is False and i < len(ways_to_win)):\n",
    "        \n",
    "        win_vec = ways_to_win[i]\n",
    "        \n",
    "        vals_x = [board[w]== \"X\" for w in win_vec]\n",
    "        vals_o = [board[w]== \"O\" for w in win_vec]\n",
    "        \n",
    "        if winner == 'X':\n",
    "            check_win = (sum(vals_x) == 3)\n",
    "        elif winner == 'O':\n",
    "            check_win = (sum(vals_o) == 3)\n",
    "        else:\n",
    "             check_win = (sum(vals_x) == 3) | (sum(vals_o) == 3)\n",
    "            \n",
    "        i = i + 1    \n",
    "\n",
    "    return check_win\n",
    "\n",
    "def is_almost_win(board, for_player = \"X\"):\n",
    "    \n",
    "    ways_to_win = np.array([[0, 1, 2], [3, 4, 5], [6, 7, 8], [0, 3, 6], [1, 4, 7], [2, 5, 8], [0, 4, 8], [2, 4, 6]])\n",
    "\n",
    "    i = 0\n",
    "    \n",
    "    check_awin = False\n",
    "\n",
    "    while(check_awin is False and i < len(ways_to_win)):\n",
    "        \n",
    "        j = 0\n",
    "        \n",
    "        win_vec = ways_to_win[i]\n",
    "                        \n",
    "        ways_to_almost_win = [win_vec[combo] for combo in [[0,1], [1,2], [0,2]]]\n",
    "        \n",
    "        while(check_awin is False and j < len(ways_to_almost_win)):\n",
    "                            \n",
    "            awin_vec = ways_to_almost_win[j] \n",
    "                        \n",
    "            vals_player = [board[w] == for_player for w in awin_vec]\n",
    "            \n",
    "            vals_open = [board[w] == \"\" for w in win_vec]            \n",
    "            \n",
    "            check_awin = (sum(vals_player) == 2) and (sum(vals_open) == 1)\n",
    "            \n",
    "            j = j + 1\n",
    "            \n",
    "        i = i + 1    \n",
    "                        \n",
    "    how_to_win = ways_to_win[i-1]    \n",
    "    \n",
    "    if check_awin:\n",
    "        which_play = how_to_win[np.where(np.array(board)[how_to_win] == \"\")[0][0]]\n",
    "    else:\n",
    "        which_play = []\n",
    "    \n",
    "    return which_play, check_awin\n",
    "\n",
    "def is_full_board(board):\n",
    "    return sum([board[i] in [\"X\", \"O\"] for i in range(9)]) == 9\n",
    "\n",
    "def unique_boards(all_boards):\n",
    "    return [np.array(x) for x in set(tuple(x) for x in all_boards)]\n",
    "\n",
    "def get_baseline_value(board):\n",
    "    \n",
    "    if is_winning_board(board, winner = 'X'):\n",
    "        return 1    \n",
    "    elif is_winning_board(board, winner = 'O') or is_full_board(board):\n",
    "        return 0\n",
    "    else:\n",
    "        return .5\n",
    "    \n",
    "def get_value_board(board, value_df):\n",
    "    if board is None:\n",
    "        return .5\n",
    "    else:\n",
    "        board_df = pd.DataFrame([board])\n",
    "        return board_df.merge(value_df, how = \"left\")['value'].loc[0]\n",
    "\n",
    "def baseline_value_table():\n",
    "\n",
    "    round = 0\n",
    "    player_turns = ['X', 'O', 'X', 'O', 'X', 'O', 'X', 'O', 'X']\n",
    "\n",
    "    prev_round_boards = [np.array([\"\", \"\", \"\", \"\", \"\", \"\", \"\", \"\", \"\"])]\n",
    "\n",
    "    all_boards = prev_round_boards\n",
    "\n",
    "    while(round < 9):\n",
    "\n",
    "        current_player = player_turns[round]\n",
    "        round_boards = []\n",
    "\n",
    "        for prev_board in prev_round_boards:\n",
    "\n",
    "            if not is_winning_board(prev_board):\n",
    "                still_open = np.where(prev_board == '')[0]\n",
    "\n",
    "                for move in still_open:\n",
    "                    new_board = prev_board.copy()\n",
    "                    new_board[move] = current_player\n",
    "                    round_boards = round_boards + [new_board]\n",
    "\n",
    "        round_boards_unique = unique_boards(round_boards)\n",
    "\n",
    "        prev_round_boards =  round_boards_unique\n",
    "\n",
    "        all_boards = all_boards + round_boards_unique\n",
    "\n",
    "        round = round + 1\n",
    "        \n",
    "        init_values = [get_baseline_value(board) for board in all_boards]\n",
    "\n",
    "        value_df = pd.DataFrame(all_boards)\n",
    "\n",
    "        all_boards_str = [','.join(board) for board in all_boards]\n",
    "\n",
    "        value_df['board_str'] = all_boards_str\n",
    "\n",
    "        value_df['value'] = init_values\n",
    "\n",
    "    return value_df\n"
   ]
  },
  {
   "cell_type": "markdown",
   "metadata": {},
   "source": [
    "Let the learner play 300 rounds of games against a random-selection oponent with decaying learning rate and epsilon in epsilon-greedy strategy.\n",
    "\n",
    "$V(S_t) \\leftarrow V(S_t) + \\alpha[ V(S_{t+1}) - V(S_t)]$ \n",
    "\n",
    "For example, if $\\alpha  = .1$ and $V(S_t) = .4$ and $V(S_{t+1})$ = .5, then $V(S_t)$ becomes 0.41.    \n",
    "\n",
    "Epsilon = % of time the learner takes a random step\n",
    "(otherwise it takes the move with the highest "
   ]
  },
  {
   "cell_type": "code",
   "execution_count": 749,
   "metadata": {},
   "outputs": [],
   "source": [
    "def learner_move(curr_board, prev_board, epsilon, alpha, player = 'X'):\n",
    "\n",
    "#     curr_board_str = ','.join(curr_board)\n",
    "#     curr_board_value = get_value_board(curr_board, value_df)\n",
    "    \n",
    "    still_open = np.where(curr_board == '')[0]\n",
    "    \n",
    "    next_boards = []\n",
    "\n",
    "    for move in still_open:\n",
    "        next_board = curr_board.copy()\n",
    "        next_board[move] = 'X'\n",
    "        next_boards = next_boards + [next_board]\n",
    "\n",
    "    greedy = np.random.random_sample() > epsilon\n",
    "\n",
    "    values = [get_value_board(board, value_df) for board in next_boards]\n",
    "\n",
    "    if greedy:\n",
    "        choices = still_open[np.where(values == max(values))]\n",
    "        if len(choices) > 1:\n",
    "            next_move = np.random.choice(choices)\n",
    "        else:\n",
    "            next_move = choices[0]\n",
    "    else:\n",
    "        next_move = np.random.choice(still_open)\n",
    "\n",
    "    new_board = curr_board.copy()\n",
    "    new_board[next_move] = player\n",
    "\n",
    "    new_board_value = get_value_board(new_board, value_df)\n",
    "\n",
    "#     curr_board_value  = curr_board_value + alpha*(new_board_value - curr_board_value)    \n",
    "#     value_df.loc[value_df['board_str'] == curr_board_str, 'value'] = curr_board_value\n",
    "\n",
    "    if prev_board is not None:\n",
    "        prev_board_str = ','.join(prev_board)\n",
    "        prev_board_value = get_value_board(prev_board, value_df)\n",
    "\n",
    "        prev_board_value  = prev_board_value + alpha*(new_board_value - prev_board_value)    \n",
    "        value_df.loc[value_df['board_str'] == prev_board_str, 'value'] = prev_board_value\n",
    "\n",
    "    return new_board\n",
    "\n",
    "# not being used\n",
    "def random_move(curr_board, player = 'O'):\n",
    "    still_open = np.where(curr_board == '')[0]\n",
    "\n",
    "    next_move = np.random.choice(still_open)\n",
    "    \n",
    "    new_board = curr_board.copy()\n",
    "    new_board[next_move] = player\n",
    "    \n",
    "    return new_board\n",
    "\n",
    "def smartish_move(curr_board, player = 'O'):\n",
    "\n",
    "    opponent = np.asscalar(np.where(player == \"O\", \"X\", \"O\"))\n",
    "        \n",
    "    me_best_move, me_win = is_almost_win(curr_board, for_player = player)\n",
    "        \n",
    "    op_best_move, op_win = is_almost_win(curr_board, for_player = opponent)\n",
    "    \n",
    "    # can I win? --> so win then\n",
    "    if me_win:\n",
    "        new_board = curr_board.copy()\n",
    "        new_board[me_best_move] = player\n",
    "        \n",
    "    # is other player about to win? --> block them\n",
    "    elif op_win:\n",
    "        new_board = curr_board.copy()        \n",
    "        new_board[op_best_move] = player\n",
    "    \n",
    "    # otherwise pick randomly\n",
    "    else:\n",
    "        still_open = np.where(np.array(curr_board) == '')[0]\n",
    "\n",
    "        next_move = np.random.choice(still_open)\n",
    "\n",
    "        new_board = curr_board.copy()\n",
    "        new_board[next_move] = player\n",
    "\n",
    "    return new_board\n",
    "\n",
    "def make_move(curr_board, prev_board, turn, epsilon, alpha, RL_player = 'X'):\n",
    "    \n",
    "    if turn in [0,2,4,6,8]:\n",
    "        new_board = learner_move(curr_board, prev_board, epsilon, alpha, player = RL_player)\n",
    "        \n",
    "    else:\n",
    "        comp_player = np.asscalar(np.where(RL_player == 'X', 'O', 'X'))\n",
    "        new_board = smartish_move(curr_board, player = comp_player)\n",
    "        \n",
    "    return new_board\n",
    "\n",
    "def which_turns_value_changes(old_value_df, new_value_df):\n",
    "    merge_df = old_value_df.merge(new_value_df, on = [0,1,2,3,4,5,6,7,8, 'board_str'], suffixes = [\"_old\", \"_new\"])\n",
    "        \n",
    "    changes_df = merge_df.loc[merge_df['value_old'] != merge_df['value_new']].reset_index(drop = True)\n",
    "        \n",
    "    def get_row_turn(data, row):\n",
    "        return sum(data.loc[row][:9] != \"\")\n",
    "        \n",
    "    turns_changed = [get_row_turn(changes_df, row) for row in list(range(changes_df.shape[0]))]\n",
    "    \n",
    "    return turns_changed\n",
    "\n",
    "def play_round(epsilon, alpha, show = False):\n",
    "    \n",
    "    old_value_df = value_df.copy()\n",
    "    \n",
    "    prev_board = None\n",
    "    curr_board = np.array(['', '', '', '', '', '', '', '', ''])\n",
    "\n",
    "    turn = 0\n",
    "\n",
    "    check_win = False\n",
    "\n",
    "    while(turn < 9 and check_win is False):\n",
    "        \n",
    "#         print(turn)\n",
    "#         print('prev')\n",
    "#         print(prev_board)\n",
    "#         print('curr')\n",
    "#         print(curr_board)\n",
    "        \n",
    "        new_board = make_move(curr_board, prev_board, turn, epsilon, alpha)\n",
    "        \n",
    "        if show:\n",
    "            print_board(new_board)\n",
    "\n",
    "        x_wins = is_winning_board(new_board, 'X')\n",
    "        o_wins = is_winning_board(new_board, 'O')\n",
    "\n",
    "        check_win = x_wins or o_wins\n",
    "\n",
    "        prev_board = curr_board.copy()\n",
    "        curr_board = new_board.copy()\n",
    "        turn = turn + 1\n",
    "        \n",
    "    new_value_df = value_df.copy()\n",
    "    \n",
    "    turns_change = which_turns_value_changes(old_value_df, new_value_df)\n",
    "\n",
    "    if x_wins:\n",
    "        ending = \"X wins\"\n",
    "    elif o_wins:\n",
    "        ending = \"O wins\"\n",
    "    else:\n",
    "        ending = \"cats\"\n",
    "        \n",
    "    return curr_board, turns_change, ending\n",
    "\n",
    "def play_all_rounds(alpha_list, epsilon_list):\n",
    "    \n",
    "    value_df = baseline_value_table()\n",
    "    \n",
    "    print(value_df.value.value_counts())\n",
    "    \n",
    "    num_epochs = len(alpha_list)\n",
    "    \n",
    "    win_list = []\n",
    "    turns_list = []\n",
    "    \n",
    "    for i in range(num_epochs):\n",
    "        if i % 100 == 0:\n",
    "            print(i)\n",
    "        \n",
    "        end_board, turns_change, winner = play_round(epsilon_list[i], alpha_list[i])\n",
    "        \n",
    "        if len(turns_change) > 0:\n",
    "            turns_list.append(turns_change)\n",
    "        else:\n",
    "            turns_list.append([-99])\n",
    "            \n",
    "        win_list = win_list + [winner]   \n",
    "        \n",
    "    return win_list, turns_list"
   ]
  },
  {
   "cell_type": "code",
   "execution_count": 750,
   "metadata": {},
   "outputs": [
    {
     "data": {
      "text/plain": [
       "0.5    4520\n",
       "1.0     626\n",
       "0.0     332\n",
       "Name: value, dtype: int64"
      ]
     },
     "execution_count": 750,
     "metadata": {},
     "output_type": "execute_result"
    }
   ],
   "source": [
    "value_df = baseline_value_table()\n",
    "\n",
    "value_df.value.value_counts()"
   ]
  },
  {
   "cell_type": "code",
   "execution_count": 788,
   "metadata": {},
   "outputs": [
    {
     "name": "stdout",
     "output_type": "stream",
     "text": [
      "0.5    4520\n",
      "1.0     626\n",
      "0.0     332\n",
      "Name: value, dtype: int64\n",
      "0\n",
      "500\n",
      "1000\n",
      "1500\n",
      "2000\n",
      "2500\n",
      "3000\n",
      "3500\n",
      "4000\n"
     ]
    }
   ],
   "source": [
    "epsilon_list = np.arange(1, .1, -.0002)\n",
    "alpha_list = np.array([.3] * len(epsilon_list))\n",
    "\n",
    "wins, turns = play_all_rounds(alpha_list, epsilon_list)"
   ]
  },
  {
   "cell_type": "code",
   "execution_count": 793,
   "metadata": {},
   "outputs": [
    {
     "name": "stdout",
     "output_type": "stream",
     "text": [
      "   iter_group  ending  count_val ending_cat\n",
      "0           0  O wins        168     O wins\n",
      "1           0    cats         65       cats\n",
      "2           0  X wins         17     X wins\n",
      "3         250  O wins        166     O wins\n",
      "4         250    cats         65       cats\n"
     ]
    },
    {
     "data": {
      "image/png": "[encoded data removed]",
      "text/plain": [
       "<Figure size 640x480 with 1 Axes>"
      ]
     },
     "metadata": {},
     "output_type": "display_data"
    },
    {
     "data": {
      "text/plain": [
       "<ggplot: (-9223372029302908700)>"
      ]
     },
     "execution_count": 793,
     "metadata": {},
     "output_type": "execute_result"
    }
   ],
   "source": [
    "wins_df = pd.DataFrame({'ending':wins})\n",
    "\n",
    "wins_df['iter'] = range(wins_df.shape[0])\n",
    "\n",
    "wins_df['iter_group'] = wins_df['iter'].apply(lambda num: num - (num % 250))\n",
    "\n",
    "wins_df_group = wins_df.groupby('iter_group')['ending'].value_counts().rename(columns = {'': ''}).reset_index().rename(columns = {0:'count_val'})\n",
    "\n",
    "wins_df_group['ending_cat'] = pd.Categorical(wins_df_group['ending'], categories = ['O wins', 'cats', 'X wins'], ordered = True)\n",
    "\n",
    "print(wins_df_group.head())\n",
    "\n",
    "(p9.ggplot(wins_df_group, p9.aes(x = 'factor(iter_group)', fill = 'ending_cat', y = 'count_val')) + \n",
    "p9.geom_col() +\n",
    "p9.theme(axis_text_x=p9.element_text(rotation=45, hjust=0))\n",
    ")"
   ]
  },
  {
   "cell_type": "code",
   "execution_count": 795,
   "metadata": {},
   "outputs": [
    {
     "data": {
      "image/png": "[encoded data removed]",
      "text/plain": [
       "<Figure size 640x480 with 1 Axes>"
      ]
     },
     "metadata": {},
     "output_type": "display_data"
    },
    {
     "data": {
      "text/plain": [
       "<ggplot: (7556266083)>"
      ]
     },
     "execution_count": 795,
     "metadata": {},
     "output_type": "execute_result"
    }
   ],
   "source": [
    "turns_df = pd.DataFrame([[i, val] for i in range(len(turns)) for val in turns[i]], columns = ['iter', 'turn'])\n",
    "\n",
    "turns_df['iter_group'] = turns_df['iter'].apply(lambda num: num - (num % 250))\n",
    "\n",
    "turns_df_group = turns_df.groupby('iter_group')['turn'].value_counts().rename(columns = {'': ''}).reset_index().rename(columns = {0:'count_val'})\n",
    "\n",
    "turns_df_group_lim = turns_df_group.loc[turns_df_group['turn'] != -99]\n",
    "\n",
    "(p9.ggplot(turns_df_group_lim, p9.aes(x = 'factor(iter_group)', y = 'count_val', fill = 'factor(turn)')) + \n",
    "p9.geom_col() +\n",
    "p9.theme(axis_text_x=p9.element_text(rotation=45, hjust=0))\n",
    ")"
   ]
  },
  {
   "cell_type": "code",
   "execution_count": 563,
   "metadata": {},
   "outputs": [
    {
     "name": "stdout",
     "output_type": "stream",
     "text": [
      "(141, 11)\n"
     ]
    },
    {
     "name": "stderr",
     "output_type": "stream",
     "text": [
      "/Users/jmaddalena/anaconda3/lib/python3.6/site-packages/plotnine/stats/stat_bin.py:93: UserWarning: 'stat_bin()' using 'bins = 6'. Pick better value with 'binwidth'.\n",
      "  warn(msg.format(params['bins']))\n"
     ]
    },
    {
     "data": {
      "image/png": "[encoded data removed]",
      "text/plain": [
       "<Figure size 640x480 with 1 Axes>"
      ]
     },
     "metadata": {},
     "output_type": "display_data"
    },
    {
     "data": {
      "text/plain": [
       "<ggplot: (7556615460)>"
      ]
     },
     "execution_count": 563,
     "metadata": {},
     "output_type": "execute_result"
    }
   ],
   "source": [
    "new_values = value_df.loc[~value_df['value'].isin([0, 0.5, 1])]\n",
    "\n",
    "print(new_values.shape)\n",
    "\n",
    "p9.ggplot(new_values, p9.aes(x = 'value')) + p9.geom_histogram()"
   ]
  }
 ],
 "metadata": {
  "kernelspec": {
   "display_name": "Python 3",
   "language": "python",
   "name": "python3"
  },
  "language_info": {
   "codemirror_mode": {
    "name": "ipython",
    "version": 3
   },
   "file_extension": ".py",
   "mimetype": "text/x-python",
   "name": "python",
   "nbconvert_exporter": "python",
   "pygments_lexer": "ipython3",
   "version": "3.6.8"
  }
 },
 "nbformat": 4,
 "nbformat_minor": 2
}
